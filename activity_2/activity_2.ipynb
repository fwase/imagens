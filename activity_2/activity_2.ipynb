{
 "cells": [
  {
   "cell_type": "markdown",
   "id": "66d8b8e3",
   "metadata": {},
   "source": [
    "Fylype Wase Cabral Lira\n",
    "\n",
    "Mardoqueu Arruda Pimentel\n",
    "\n",
    "Davi Simite Damasceno"
   ]
  },
  {
   "cell_type": "code",
   "execution_count": 1,
   "id": "5b03bb1b",
   "metadata": {},
   "outputs": [],
   "source": [
    "import cv2\n",
    "from matplotlib import pyplot as plt\n",
    "import json\n",
    "import os\n",
    "from helper import (\n",
    "    read_img, \n",
    "    show_img, \n",
    "    histogram, \n",
    "    cossine_similarity, \n",
    "    distance_two_frames, \n",
    "    get_total_frames, \n",
    "    get_fps, \n",
    "    get_frames_from_video,\n",
    "    get_seconds_from_frame_number,\n",
    "    change_scene,\n",
    "    accuracy,\n",
    "    generate_index_frames_to_compare,\n",
    "    divide_3_partitions,\n",
    "    divide_5_by_5,\n",
    "    save_image\n",
    ")\n",
    "\n",
    "%matplotlib inline"
   ]
  },
  {
   "cell_type": "code",
   "execution_count": 2,
   "id": "91138b66",
   "metadata": {},
   "outputs": [],
   "source": [
    "with open(\"seconds_change_scene_videos.json\", \"r\") as f:\n",
    "    videos_metadata = json.load(f)"
   ]
  },
  {
   "cell_type": "markdown",
   "id": "9eb762ae",
   "metadata": {},
   "source": [
    "Os arquivos necessários para esse trabalho estão no Google Drive seguinda esse link:\n",
    "https://drive.google.com/drive/folders/1hPN3_JDsjRky1UAt-ptrQRaUpsAnH7FY?usp=sharing"
   ]
  },
  {
   "cell_type": "markdown",
   "id": "a8eae68c",
   "metadata": {},
   "source": [
    "Para detectar trocar de cenas consideramos a diferença entre 2 frames. Esta diferença é dada pela similaridade entre os frames, essa similiridade é dada pela similaridade do cosseno para as 3 bandas. Se a similaridade tiver abaixo de um limar escolhido então é considerado como troca de cena. Esse limiar foi escolhido atráves de alguns experimentos feitos pelo trio.\n",
    "\n",
    "Consideramos janela de 5 frames para acelerar o processamento."
   ]
  },
  {
   "cell_type": "markdown",
   "id": "744a4c08",
   "metadata": {},
   "source": [
    "Coletamos 10 videos com o tempo estipulado no enunciado do trabalho que estão link do Drive disponibilizado acima. Para cada video calculamos sua acurácia dos acertos em comparação com a detecção manual de cena."
   ]
  },
  {
   "cell_type": "markdown",
   "id": "ad28add4",
   "metadata": {},
   "source": [
    "Abaixo há a detecção utilizando o histograma global com o limiar de 0.75. Os quadros chaves estão disponíveis em `video/global_histogram`"
   ]
  },
  {
   "cell_type": "code",
   "execution_count": 4,
   "id": "899d5fd6",
   "metadata": {},
   "outputs": [
    {
     "name": "stdout",
     "output_type": "stream",
     "text": [
      "Video 1 Minute Video - Doggie. Accuracy: 0.625\n",
      "Video 6 AM _ Film Riot - One Minute Short Contest. Accuracy: 0.10810810810810811\n",
      "Video BABY DRIVER - 6-Minute Opening Clip. Accuracy: 0.02252252252252252\n",
      "Video Coldplay - Paradise (Official Video). Accuracy: 0.02857142857142857\n",
      "Video Cowboy Bebop – Opening Theme – Tank!. Accuracy: 0.19298245614035087\n",
      "Video First Aid Fail - The Office US. Accuracy: 0.3939393939393939\n",
      "Video Jornal Nacional - Matéria sobre Marketing Digital. Accuracy: 0.782608695652174\n",
      "Video Juntos a magia acontece. Accuracy: 0.034482758620689655\n",
      "Video Marvel Studios_ Avengers_ Endgame - Official Trailer. Accuracy: 0.171875\n",
      "Video videoplayback. Accuracy: 0.5194805194805194\n"
     ]
    }
   ],
   "source": [
    "for video_metadata in videos_metadata:\n",
    "    file_name = video_metadata.get(\"video\")\n",
    "    change_scenes_seconds_true = video_metadata.get(\"cortes\")\n",
    "    video = cv2.VideoCapture(f'videos/{file_name}.mp4')\n",
    "    \n",
    "    window = 5\n",
    "    frames = get_frames_from_video(video, window=window)\n",
    "    \n",
    "    fps = get_fps(video)\n",
    "    change_scenes_seconds_detect = []\n",
    "    \n",
    "    path_file = f\"images/global_histogram/{file_name}\"\n",
    "    os.makedirs(path_file, exist_ok=True)\n",
    "\n",
    "    for index_frame in range(1, len(frames)):\n",
    "        if change_scene(frames[index_frame], frames[index_frame-1], threshold=0.75):\n",
    "            second_detect = get_seconds_from_frame_number(index_frame * window, fps)\n",
    "\n",
    "            if second_detect not in change_scenes_seconds_detect:\n",
    "                change_scenes_seconds_detect.append(second_detect)\n",
    "                save_image(frames[index_frame], f\"{path_file}/quadro_chave_{index_frame}.jpg\")\n",
    "                \n",
    "    accuracy_change_scene = accuracy(change_scenes_seconds_true, change_scenes_seconds_detect)\n",
    "    \n",
    "    print(f\"Video {file_name}. Accuracy: {accuracy_change_scene}\")"
   ]
  },
  {
   "cell_type": "code",
   "execution_count": null,
   "id": "8ce2cc62",
   "metadata": {},
   "outputs": [],
   "source": []
  },
  {
   "cell_type": "markdown",
   "id": "a1113b55",
   "metadata": {},
   "source": [
    "Abaixo há a detecção utilizando o histograma com 3 partições com o limiar de 0.75. Os quadros chaves estão disponíveis em `video/3_partitions`.\n",
    "Para cada partição verificamos, com a mesma politica de similaridade comentada acima, se há a existência de 2 subframes diferentes. Em caso de confirmação positiva de 2 subframes diferentes então consideramos que há um troca de cena.\n",
    "\n",
    "Consideramos janela de 5 frames para acelerar o processamento."
   ]
  },
  {
   "cell_type": "code",
   "execution_count": 6,
   "id": "f7132f1c",
   "metadata": {},
   "outputs": [
    {
     "name": "stdout",
     "output_type": "stream",
     "text": [
      "Video 1 Minute Video - Doggie. Accuracy: 0.8125\n",
      "Video 6 AM _ Film Riot - One Minute Short Contest. Accuracy: 0.1891891891891892\n",
      "Video BABY DRIVER - 6-Minute Opening Clip. Accuracy: 0.04954954954954955\n",
      "Video Coldplay - Paradise (Official Video). Accuracy: 0.15714285714285714\n",
      "Video Cowboy Bebop – Opening Theme – Tank!. Accuracy: 0.24561403508771928\n",
      "Video First Aid Fail - The Office US. Accuracy: 0.7272727272727273\n",
      "Video Jornal Nacional - Matéria sobre Marketing Digital. Accuracy: 0.9565217391304348\n",
      "Video Juntos a magia acontece. Accuracy: 0.034482758620689655\n",
      "Video Marvel Studios_ Avengers_ Endgame - Official Trailer. Accuracy: 0.203125\n",
      "Video videoplayback. Accuracy: 0.7402597402597403\n"
     ]
    }
   ],
   "source": [
    "for video_metadata in videos_metadata:\n",
    "    file_name = video_metadata.get(\"video\")\n",
    "    change_scenes_seconds_true = video_metadata.get(\"cortes\")\n",
    "    video = cv2.VideoCapture(f'videos/{file_name}.mp4')\n",
    "    \n",
    "    window = 5\n",
    "    frames = get_frames_from_video(video, window=window)\n",
    "    \n",
    "    fps = get_fps(video)\n",
    "    change_scenes_seconds_detect = []\n",
    "    \n",
    "    path_file = f\"images/3_partitions/{file_name}\"\n",
    "    os.makedirs(path_file, exist_ok=True)\n",
    "\n",
    "    for index_frame in range(1, len(frames)):\n",
    "        partitions_frame_1 = divide_3_partitions(frames[index_frame])\n",
    "        partitions_frame_2 = divide_3_partitions(frames[index_frame-1])\n",
    "        change_scene_partition = [\n",
    "            change_scene(part_frame_1, part_frame_2, threshold=0.75)\n",
    "            for part_frame_1, part_frame_2\n",
    "            in zip(partitions_frame_1, partitions_frame_2)\n",
    "        ]\n",
    "\n",
    "        if True in change_scene_partition:\n",
    "            second_detect = get_seconds_from_frame_number(index_frame * window, fps)\n",
    "\n",
    "            if second_detect not in change_scenes_seconds_detect:\n",
    "                change_scenes_seconds_detect.append(second_detect)\n",
    "                save_image(frames[index_frame], f\"{path_file}/quadro_chave_{index_frame}.jpg\")\n",
    "                \n",
    "    accuracy_change_scene = accuracy(change_scenes_seconds_true, change_scenes_seconds_detect)\n",
    "    \n",
    "    print(f\"Video {file_name}. Accuracy: {accuracy_change_scene}\")"
   ]
  },
  {
   "cell_type": "code",
   "execution_count": null,
   "id": "a9df3c75",
   "metadata": {},
   "outputs": [],
   "source": []
  },
  {
   "cell_type": "code",
   "execution_count": null,
   "id": "f91a8c9f",
   "metadata": {},
   "outputs": [],
   "source": []
  },
  {
   "cell_type": "markdown",
   "id": "c3ac24b2",
   "metadata": {},
   "source": [
    "Abaixo há a detecção utilizando o histograma com partiticionamento em grid 5 x 5 com o limiar de 0.65. Os quadros chaves estão disponíveis em `video/matrix_5_x_5`.\n",
    "Para cada partição verificamos, com a mesma politica de similaridade comentada acima, se há a existência de 2 subframes diferentes. Em caso de confirmação positiva de 2 subframes diferentes então consideramos que há um troca de cena.\n",
    "\n",
    "Consideramos janela de 5 frames para acelerar o processamento."
   ]
  },
  {
   "cell_type": "code",
   "execution_count": 3,
   "id": "6bbd3a75",
   "metadata": {},
   "outputs": [
    {
     "name": "stdout",
     "output_type": "stream",
     "text": [
      "Video 1 Minute Video - Doggie. Accuracy: 1.0\n",
      "Video 6 AM _ Film Riot - One Minute Short Contest. Accuracy: 0.918918918918919\n",
      "Video BABY DRIVER - 6-Minute Opening Clip. Accuracy: 0.9819819819819819\n",
      "Video Coldplay - Paradise (Official Video). Accuracy: 0.9428571428571428\n",
      "Video Cowboy Bebop – Opening Theme – Tank!. Accuracy: 0.5789473684210527\n",
      "Video First Aid Fail - The Office US. Accuracy: 0.7575757575757576\n",
      "Video Jornal Nacional - Matéria sobre Marketing Digital. Accuracy: 1.0\n",
      "Video Juntos a magia acontece. Accuracy: 0.8620689655172413\n",
      "Video Marvel Studios_ Avengers_ Endgame - Official Trailer. Accuracy: 0.96875\n",
      "Video videoplayback. Accuracy: 0.8311688311688312\n"
     ]
    }
   ],
   "source": [
    "for video_metadata in videos_metadata:\n",
    "    file_name = video_metadata.get(\"video\")\n",
    "    change_scenes_seconds_true = video_metadata.get(\"cortes\")\n",
    "    video = cv2.VideoCapture(f'videos/{file_name}.mp4')\n",
    "    \n",
    "    window = 5\n",
    "    frames = get_frames_from_video(video, window=window)\n",
    "    \n",
    "    fps = get_fps(video)\n",
    "    change_scenes_seconds_detect = []\n",
    "    \n",
    "    path_file = f\"images/matrix_5_x_5/{file_name}\"\n",
    "    os.makedirs(path_file, exist_ok=True)\n",
    "\n",
    "    for index_frame in range(1, len(frames)):\n",
    "        partitions_frame_1 = divide_5_by_5(frames[index_frame])\n",
    "        partitions_frame_2 = divide_5_by_5(frames[index_frame-1])\n",
    "        change_scene_partition = [\n",
    "            change_scene(part_frame_1, part_frame_2, threshold=0.65)\n",
    "            for part_frame_1, part_frame_2\n",
    "            in zip(partitions_frame_1, partitions_frame_2)\n",
    "        ]\n",
    "\n",
    "        if True in change_scene_partition:\n",
    "            second_detect = get_seconds_from_frame_number(index_frame * window, fps)\n",
    "\n",
    "            if second_detect not in change_scenes_seconds_detect:\n",
    "                change_scenes_seconds_detect.append(second_detect)\n",
    "                save_image(frames[index_frame], f\"{path_file}/quadro_chave_{index_frame}.jpg\")\n",
    "                \n",
    "    accuracy_change_scene = accuracy(change_scenes_seconds_true, change_scenes_seconds_detect)\n",
    "    \n",
    "    print(f\"Video {file_name}. Accuracy: {accuracy_change_scene}\")"
   ]
  },
  {
   "cell_type": "code",
   "execution_count": null,
   "id": "070fc58b",
   "metadata": {},
   "outputs": [],
   "source": []
  },
  {
   "cell_type": "code",
   "execution_count": null,
   "id": "6385fa12",
   "metadata": {},
   "outputs": [],
   "source": []
  }
 ],
 "metadata": {
  "kernelspec": {
   "display_name": "Python 3 (ipykernel)",
   "language": "python",
   "name": "python3"
  },
  "language_info": {
   "codemirror_mode": {
    "name": "ipython",
    "version": 3
   },
   "file_extension": ".py",
   "mimetype": "text/x-python",
   "name": "python",
   "nbconvert_exporter": "python",
   "pygments_lexer": "ipython3",
   "version": "3.9.7"
  }
 },
 "nbformat": 4,
 "nbformat_minor": 5
}
