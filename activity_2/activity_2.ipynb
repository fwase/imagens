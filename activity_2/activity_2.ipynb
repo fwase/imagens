{
 "cells": [
  {
   "cell_type": "code",
   "execution_count": 6,
   "id": "5b03bb1b",
   "metadata": {},
   "outputs": [],
   "source": [
    "import cv2\n",
    "from matplotlib import pyplot as plt\n",
    "from helper import (\n",
    "    read_img, \n",
    "    show_img, \n",
    "    histogram, \n",
    "    cossine_similarity, \n",
    "    distance_two_frames, \n",
    "    get_total_frames, \n",
    "    get_fps, \n",
    "    get_frames_from_video\n",
    ")\n",
    "\n",
    "%matplotlib inline"
   ]
  },
  {
   "cell_type": "code",
   "execution_count": 7,
   "id": "ae0b6b3a",
   "metadata": {},
   "outputs": [],
   "source": [
    "video = cv2.VideoCapture('videos/video_example.mp4')"
   ]
  },
  {
   "cell_type": "code",
   "execution_count": 8,
   "id": "32cbd7f0",
   "metadata": {},
   "outputs": [
    {
     "data": {
      "text/plain": [
       "True"
      ]
     },
     "execution_count": 8,
     "metadata": {},
     "output_type": "execute_result"
    }
   ],
   "source": [
    "video.isOpened()"
   ]
  },
  {
   "cell_type": "code",
   "execution_count": 9,
   "id": "1c1580a5",
   "metadata": {
    "scrolled": true
   },
   "outputs": [],
   "source": [
    "frames = get_frames_from_video(video)"
   ]
  },
  {
   "cell_type": "code",
   "execution_count": 10,
   "id": "ead2640c",
   "metadata": {},
   "outputs": [
    {
     "data": {
      "text/plain": [
       "{'red': 0.99934316, 'green': 0.999311, 'blue': 0.99850243}"
      ]
     },
     "execution_count": 10,
     "metadata": {},
     "output_type": "execute_result"
    }
   ],
   "source": [
    "distance_two_frames(frames[0], frames[1])"
   ]
  },
  {
   "cell_type": "code",
   "execution_count": 13,
   "id": "99dacb53",
   "metadata": {},
   "outputs": [
    {
     "data": {
      "text/plain": [
       "{'red': 0.9992783, 'green': 0.99928224, 'blue': 0.99920076}"
      ]
     },
     "execution_count": 13,
     "metadata": {},
     "output_type": "execute_result"
    }
   ],
   "source": [
    "distance_two_frames(frames[9], frames[10])"
   ]
  },
  {
   "cell_type": "code",
   "execution_count": null,
   "id": "d308ea5c",
   "metadata": {},
   "outputs": [],
   "source": []
  }
 ],
 "metadata": {
  "kernelspec": {
   "display_name": "Python 3 (ipykernel)",
   "language": "python",
   "name": "python3"
  },
  "language_info": {
   "codemirror_mode": {
    "name": "ipython",
    "version": 3
   },
   "file_extension": ".py",
   "mimetype": "text/x-python",
   "name": "python",
   "nbconvert_exporter": "python",
   "pygments_lexer": "ipython3",
   "version": "3.9.7"
  }
 },
 "nbformat": 4,
 "nbformat_minor": 5
}
